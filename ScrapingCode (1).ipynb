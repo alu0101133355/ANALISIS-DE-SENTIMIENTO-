{
  "nbformat": 4,
  "nbformat_minor": 0,
  "metadata": {
    "colab": {
      "provenance": []
    },
    "kernelspec": {
      "name": "python3",
      "display_name": "Python 3"
    },
    "language_info": {
      "name": "python"
    }
  },
  "cells": [
    {
      "cell_type": "code",
      "execution_count": 3,
      "metadata": {
        "colab": {
          "base_uri": "https://localhost:8080/"
        },
        "id": "R_jlLPHWG5Jm",
        "outputId": "a680d242-0c7d-4c07-deb5-3fcb641adae4"
      },
      "outputs": [
        {
          "output_type": "stream",
          "name": "stdout",
          "text": [
            "Requirement already satisfied: httpx in /usr/local/lib/python3.10/dist-packages (0.27.2)\n",
            "Requirement already satisfied: loguru in /usr/local/lib/python3.10/dist-packages (0.7.2)\n",
            "Requirement already satisfied: pandas in /usr/local/lib/python3.10/dist-packages (2.1.4)\n",
            "Requirement already satisfied: anyio in /usr/local/lib/python3.10/dist-packages (from httpx) (3.7.1)\n",
            "Requirement already satisfied: certifi in /usr/local/lib/python3.10/dist-packages (from httpx) (2024.8.30)\n",
            "Requirement already satisfied: httpcore==1.* in /usr/local/lib/python3.10/dist-packages (from httpx) (1.0.5)\n",
            "Requirement already satisfied: idna in /usr/local/lib/python3.10/dist-packages (from httpx) (3.8)\n",
            "Requirement already satisfied: sniffio in /usr/local/lib/python3.10/dist-packages (from httpx) (1.3.1)\n",
            "Requirement already satisfied: h11<0.15,>=0.13 in /usr/local/lib/python3.10/dist-packages (from httpcore==1.*->httpx) (0.14.0)\n",
            "Requirement already satisfied: numpy<2,>=1.22.4 in /usr/local/lib/python3.10/dist-packages (from pandas) (1.26.4)\n",
            "Requirement already satisfied: python-dateutil>=2.8.2 in /usr/local/lib/python3.10/dist-packages (from pandas) (2.8.2)\n",
            "Requirement already satisfied: pytz>=2020.1 in /usr/local/lib/python3.10/dist-packages (from pandas) (2024.2)\n",
            "Requirement already satisfied: tzdata>=2022.1 in /usr/local/lib/python3.10/dist-packages (from pandas) (2024.1)\n",
            "Requirement already satisfied: six>=1.5 in /usr/local/lib/python3.10/dist-packages (from python-dateutil>=2.8.2->pandas) (1.16.0)\n",
            "Requirement already satisfied: exceptiongroup in /usr/local/lib/python3.10/dist-packages (from anyio->httpx) (1.2.2)\n"
          ]
        }
      ],
      "source": [
        "!pip install httpx loguru pandas"
      ]
    },
    {
      "cell_type": "code",
      "source": [
        "!pip install httpx loguru pandas"
      ],
      "metadata": {
        "colab": {
          "base_uri": "https://localhost:8080/"
        },
        "id": "zy6LkRvpKEvb",
        "outputId": "85555e09-1da7-45f6-cbc1-e08d4c315e83"
      },
      "execution_count": 4,
      "outputs": [
        {
          "output_type": "stream",
          "name": "stdout",
          "text": [
            "Requirement already satisfied: httpx in /usr/local/lib/python3.10/dist-packages (0.27.2)\n",
            "Requirement already satisfied: loguru in /usr/local/lib/python3.10/dist-packages (0.7.2)\n",
            "Requirement already satisfied: pandas in /usr/local/lib/python3.10/dist-packages (2.1.4)\n",
            "Requirement already satisfied: anyio in /usr/local/lib/python3.10/dist-packages (from httpx) (3.7.1)\n",
            "Requirement already satisfied: certifi in /usr/local/lib/python3.10/dist-packages (from httpx) (2024.8.30)\n",
            "Requirement already satisfied: httpcore==1.* in /usr/local/lib/python3.10/dist-packages (from httpx) (1.0.5)\n",
            "Requirement already satisfied: idna in /usr/local/lib/python3.10/dist-packages (from httpx) (3.8)\n",
            "Requirement already satisfied: sniffio in /usr/local/lib/python3.10/dist-packages (from httpx) (1.3.1)\n",
            "Requirement already satisfied: h11<0.15,>=0.13 in /usr/local/lib/python3.10/dist-packages (from httpcore==1.*->httpx) (0.14.0)\n",
            "Requirement already satisfied: numpy<2,>=1.22.4 in /usr/local/lib/python3.10/dist-packages (from pandas) (1.26.4)\n",
            "Requirement already satisfied: python-dateutil>=2.8.2 in /usr/local/lib/python3.10/dist-packages (from pandas) (2.8.2)\n",
            "Requirement already satisfied: pytz>=2020.1 in /usr/local/lib/python3.10/dist-packages (from pandas) (2024.2)\n",
            "Requirement already satisfied: tzdata>=2022.1 in /usr/local/lib/python3.10/dist-packages (from pandas) (2024.1)\n",
            "Requirement already satisfied: six>=1.5 in /usr/local/lib/python3.10/dist-packages (from python-dateutil>=2.8.2->pandas) (1.16.0)\n",
            "Requirement already satisfied: exceptiongroup in /usr/local/lib/python3.10/dist-packages (from anyio->httpx) (1.2.2)\n"
          ]
        }
      ]
    },
    {
      "cell_type": "code",
      "source": [
        "!pip install httpx[http2] loguru pandas"
      ],
      "metadata": {
        "colab": {
          "base_uri": "https://localhost:8080/"
        },
        "id": "AQDJFKb6KZvj",
        "outputId": "a1f1b3b1-b2f6-4ba5-8fec-a3e7e5a31ab1"
      },
      "execution_count": 5,
      "outputs": [
        {
          "output_type": "stream",
          "name": "stdout",
          "text": [
            "Requirement already satisfied: loguru in /usr/local/lib/python3.10/dist-packages (0.7.2)\n",
            "Requirement already satisfied: pandas in /usr/local/lib/python3.10/dist-packages (2.1.4)\n",
            "Requirement already satisfied: httpx[http2] in /usr/local/lib/python3.10/dist-packages (0.27.2)\n",
            "Requirement already satisfied: anyio in /usr/local/lib/python3.10/dist-packages (from httpx[http2]) (3.7.1)\n",
            "Requirement already satisfied: certifi in /usr/local/lib/python3.10/dist-packages (from httpx[http2]) (2024.8.30)\n",
            "Requirement already satisfied: httpcore==1.* in /usr/local/lib/python3.10/dist-packages (from httpx[http2]) (1.0.5)\n",
            "Requirement already satisfied: idna in /usr/local/lib/python3.10/dist-packages (from httpx[http2]) (3.8)\n",
            "Requirement already satisfied: sniffio in /usr/local/lib/python3.10/dist-packages (from httpx[http2]) (1.3.1)\n",
            "Collecting h2<5,>=3 (from httpx[http2])\n",
            "  Downloading h2-4.1.0-py3-none-any.whl.metadata (3.6 kB)\n",
            "Requirement already satisfied: h11<0.15,>=0.13 in /usr/local/lib/python3.10/dist-packages (from httpcore==1.*->httpx[http2]) (0.14.0)\n",
            "Requirement already satisfied: numpy<2,>=1.22.4 in /usr/local/lib/python3.10/dist-packages (from pandas) (1.26.4)\n",
            "Requirement already satisfied: python-dateutil>=2.8.2 in /usr/local/lib/python3.10/dist-packages (from pandas) (2.8.2)\n",
            "Requirement already satisfied: pytz>=2020.1 in /usr/local/lib/python3.10/dist-packages (from pandas) (2024.2)\n",
            "Requirement already satisfied: tzdata>=2022.1 in /usr/local/lib/python3.10/dist-packages (from pandas) (2024.1)\n",
            "Collecting hyperframe<7,>=6.0 (from h2<5,>=3->httpx[http2])\n",
            "  Downloading hyperframe-6.0.1-py3-none-any.whl.metadata (2.7 kB)\n",
            "Collecting hpack<5,>=4.0 (from h2<5,>=3->httpx[http2])\n",
            "  Downloading hpack-4.0.0-py3-none-any.whl.metadata (2.5 kB)\n",
            "Requirement already satisfied: six>=1.5 in /usr/local/lib/python3.10/dist-packages (from python-dateutil>=2.8.2->pandas) (1.16.0)\n",
            "Requirement already satisfied: exceptiongroup in /usr/local/lib/python3.10/dist-packages (from anyio->httpx[http2]) (1.2.2)\n",
            "Downloading h2-4.1.0-py3-none-any.whl (57 kB)\n",
            "\u001b[2K   \u001b[90m━━━━━━━━━━━━━━━━━━━━━━━━━━━━━━━━━━━━━━━━\u001b[0m \u001b[32m57.5/57.5 kB\u001b[0m \u001b[31m3.3 MB/s\u001b[0m eta \u001b[36m0:00:00\u001b[0m\n",
            "\u001b[?25hDownloading hpack-4.0.0-py3-none-any.whl (32 kB)\n",
            "Downloading hyperframe-6.0.1-py3-none-any.whl (12 kB)\n",
            "Installing collected packages: hyperframe, hpack, h2\n",
            "Successfully installed h2-4.1.0 hpack-4.0.0 hyperframe-6.0.1\n"
          ]
        }
      ]
    },
    {
      "cell_type": "code",
      "source": [
        "!pip install httpx[http2] loguru pandas nest_asyncio"
      ],
      "metadata": {
        "colab": {
          "base_uri": "https://localhost:8080/"
        },
        "id": "v4f9Dgz9KrzW",
        "outputId": "1a298f00-b8f5-4a4d-f361-531ad93e317d"
      },
      "execution_count": 6,
      "outputs": [
        {
          "output_type": "stream",
          "name": "stdout",
          "text": [
            "Requirement already satisfied: loguru in /usr/local/lib/python3.10/dist-packages (0.7.2)\n",
            "Requirement already satisfied: pandas in /usr/local/lib/python3.10/dist-packages (2.1.4)\n",
            "Requirement already satisfied: nest_asyncio in /usr/local/lib/python3.10/dist-packages (1.6.0)\n",
            "Requirement already satisfied: httpx[http2] in /usr/local/lib/python3.10/dist-packages (0.27.2)\n",
            "Requirement already satisfied: anyio in /usr/local/lib/python3.10/dist-packages (from httpx[http2]) (3.7.1)\n",
            "Requirement already satisfied: certifi in /usr/local/lib/python3.10/dist-packages (from httpx[http2]) (2024.8.30)\n",
            "Requirement already satisfied: httpcore==1.* in /usr/local/lib/python3.10/dist-packages (from httpx[http2]) (1.0.5)\n",
            "Requirement already satisfied: idna in /usr/local/lib/python3.10/dist-packages (from httpx[http2]) (3.8)\n",
            "Requirement already satisfied: sniffio in /usr/local/lib/python3.10/dist-packages (from httpx[http2]) (1.3.1)\n",
            "Requirement already satisfied: h2<5,>=3 in /usr/local/lib/python3.10/dist-packages (from httpx[http2]) (4.1.0)\n",
            "Requirement already satisfied: h11<0.15,>=0.13 in /usr/local/lib/python3.10/dist-packages (from httpcore==1.*->httpx[http2]) (0.14.0)\n",
            "Requirement already satisfied: numpy<2,>=1.22.4 in /usr/local/lib/python3.10/dist-packages (from pandas) (1.26.4)\n",
            "Requirement already satisfied: python-dateutil>=2.8.2 in /usr/local/lib/python3.10/dist-packages (from pandas) (2.8.2)\n",
            "Requirement already satisfied: pytz>=2020.1 in /usr/local/lib/python3.10/dist-packages (from pandas) (2024.2)\n",
            "Requirement already satisfied: tzdata>=2022.1 in /usr/local/lib/python3.10/dist-packages (from pandas) (2024.1)\n",
            "Requirement already satisfied: hyperframe<7,>=6.0 in /usr/local/lib/python3.10/dist-packages (from h2<5,>=3->httpx[http2]) (6.0.1)\n",
            "Requirement already satisfied: hpack<5,>=4.0 in /usr/local/lib/python3.10/dist-packages (from h2<5,>=3->httpx[http2]) (4.0.0)\n",
            "Requirement already satisfied: six>=1.5 in /usr/local/lib/python3.10/dist-packages (from python-dateutil>=2.8.2->pandas) (1.16.0)\n",
            "Requirement already satisfied: exceptiongroup in /usr/local/lib/python3.10/dist-packages (from anyio->httpx[http2]) (1.2.2)\n"
          ]
        }
      ]
    },
    {
      "cell_type": "code",
      "source": [
        "import nest_asyncio\n",
        "import asyncio\n",
        "import json\n",
        "import pandas as pd\n",
        "from typing import List, Dict\n",
        "from httpx import AsyncClient, Response\n",
        "from loguru import logger as log\n",
        "\n",
        "# Aplicar el parche de nest_asyncio\n",
        "nest_asyncio.apply()\n",
        "\n",
        "# Inicializar un cliente httpx asíncrono\n",
        "client = AsyncClient(\n",
        "    http2=True,\n",
        "    headers={\n",
        "        \"Accept-Language\": \"en-US,en;q=0.9\",\n",
        "        \"User-Agent\": \"Mozilla/5.0 (Windows NT 10.0; Win64; x64) AppleWebKit/537.36 (KHTML, like Gecko) Chrome/96.0.4664.110 Safari/537.36\",\n",
        "        \"Accept\": \"text/html,application/xhtml+xml,application/xml;q=0.9,image/webp,image/apng,*/*;q=0.8\",\n",
        "        \"Accept-Encoding\": \"gzip, deflate, br\",\n",
        "        \"Cookie\": \"intl_splash=false\"\n",
        "    },\n",
        ")\n",
        "\n",
        "\n",
        "def parse_reviews(response: Response) -> Dict:\n",
        "    \"\"\"Analizar los datos de las reseñas de las respuestas de la API de reseñas\"\"\"\n",
        "    data = response.json()\n",
        "    total_pages = data[\"totalPages\"]\n",
        "    review_data = data[\"topics\"]\n",
        "    return {\"data\": review_data, \"total_pages\": total_pages}\n",
        "\n",
        "async def scrape_reviews(skuid: int) -> List[Dict]:\n",
        "    \"\"\"Obtener datos de reseñas desde la API de reseñas\"\"\"\n",
        "    first_page = await client.get(f\"https://www.bestbuy.com/ugc/v2/reviews?page=1&pageSize=20&sku={skuid}&sort=MOST_RECENT\")\n",
        "    data = parse_reviews(first_page)\n",
        "    review_data = data[\"data\"]\n",
        "    total_pages = data[\"total_pages\"]\n",
        "\n",
        "    log.info(f\"Obteniendo paginación de reseñas, {total_pages - 1} páginas más\")\n",
        "    to_scrape = [\n",
        "        client.get(f\"https://www.bestbuy.com/ugc/v2/reviews?page={page_number}&pageSize=20&sku={skuid}&sort=MOST_RECENT\")\n",
        "        for page_number in range(2, total_pages + 1)\n",
        "    ]\n",
        "    for response in asyncio.as_completed(to_scrape):\n",
        "        response = await response\n",
        "        data = parse_reviews(response)[\"data\"]\n",
        "        review_data.extend(data)\n",
        "\n",
        "    log.success(f\"Obtenidas {len(review_data)} reseñas de la API de reseñas\")\n",
        "    return review_data\n",
        "\n",
        "async def run():\n",
        "    skuid = 6569668  # ID de SKU del producto\n",
        "    review_data = await scrape_reviews(skuid)\n",
        "\n",
        "    # Crear un DataFrame de pandas con los datos de las reseñas\n",
        "    df = pd.DataFrame(review_data)\n",
        "\n",
        "    # Mostrar el DataFrame\n",
        "    print(df.head())\n",
        "\n",
        "    # Almacenar el DataFrame en un archivo JSON\n",
        "    df.to_json(\"reviews.json\", orient=\"records\", lines=True)\n",
        "\n",
        "    return df\n",
        "\n",
        "# Ejecutar la función run\n",
        "df = asyncio.get_event_loop().run_until_complete(run())"
      ],
      "metadata": {
        "colab": {
          "base_uri": "https://localhost:8080/"
        },
        "id": "_od1Lq-vKBFk",
        "outputId": "03ed302b-cd5e-437b-ce27-7cccbb505ad7"
      },
      "execution_count": 7,
      "outputs": [
        {
          "output_type": "stream",
          "name": "stderr",
          "text": [
            "\u001b[32m2024-09-17 14:56:58.017\u001b[0m | \u001b[1mINFO    \u001b[0m | \u001b[36m__main__\u001b[0m:\u001b[36mscrape_reviews\u001b[0m:\u001b[36m39\u001b[0m - \u001b[1mObteniendo paginación de reseñas, 10 páginas más\u001b[0m\n",
            "\u001b[32m2024-09-17 14:56:58.415\u001b[0m | \u001b[32m\u001b[1mSUCCESS \u001b[0m | \u001b[36m__main__\u001b[0m:\u001b[36mscrape_reviews\u001b[0m:\u001b[36m49\u001b[0m - \u001b[32m\u001b[1mObtenidas 216 reseñas de la API de reseñas\u001b[0m\n"
          ]
        },
        {
          "output_type": "stream",
          "name": "stdout",
          "text": [
            "                                     id topicType  rating  recommended  \\\n",
            "0  766e8ed0-a4a3-35e1-9cb7-ae6f5081b9c8    review       5         True   \n",
            "1  21982890-7761-3eed-917b-11087412cbfa    review       5         True   \n",
            "2  428df55d-d6f9-399a-9e54-d5834140c123    review       5         True   \n",
            "3  20d8d8ed-6126-38af-a1e4-12e6a63cf42f    review       5         True   \n",
            "4  7fbf75fb-8110-36fa-b1d6-10723dc29655    review       5         True   \n",
            "\n",
            "                          title  \\\n",
            "0            Excellent for work   \n",
            "1        Good everyday notebook   \n",
            "2        Touchscreen Excellence   \n",
            "3  Best Buy of the day, for me!   \n",
            "4              Great for school   \n",
            "\n",
            "                                                text    author  \\\n",
            "0  Does what it’s supposed to do. Fast enough to ...  Akromius   \n",
            "1  I use to browse internet, show online and make...      Dean   \n",
            "2  Love it! Best Buy Y must I put 50 characters t...  Khanicsd   \n",
            "3  So happy I was able to get this laptop. Ordere...    PaulaH   \n",
            "4  Works great!  It does everything that my child...  Wolfgirl   \n",
            "\n",
            "   positiveFeedbackCount  negativeFeedbackCount  commentCount  ...  \\\n",
            "0                      0                      0             0  ...   \n",
            "1                      0                      0             0  ...   \n",
            "2                      0                      0             0  ...   \n",
            "3                      0                      1             0  ...   \n",
            "4                      0                      0             0  ...   \n",
            "\n",
            "  brandResponses                                             badges photos  \\\n",
            "0             []  [{'badgeCode': 'Incentivized', 'badgeDescripti...     []   \n",
            "1             []  [{'badgeCode': 'Incentivized', 'badgeDescripti...     []   \n",
            "2             []  [{'badgeCode': 'Incentivized', 'badgeDescripti...     []   \n",
            "3             []  [{'badgeCode': 'Incentivized', 'badgeDescripti...     []   \n",
            "4             []  [{'badgeCode': 'Incentivized', 'badgeDescripti...     []   \n",
            "\n",
            "  qualityRating valueRating  easeOfUseRating  daysOfOwnership  pros  cons  \\\n",
            "0           NaN         NaN              NaN             23.0  None  None   \n",
            "1           NaN         NaN              NaN             23.0  None  None   \n",
            "2           NaN         NaN              NaN             22.0  None  None   \n",
            "3           NaN         NaN              NaN             27.0  None  None   \n",
            "4           NaN         NaN              NaN             22.0  None  None   \n",
            "\n",
            "                                    secondaryRatings  \n",
            "0  [{'attribute': 'BatteryLife', 'value': 4, 'att...  \n",
            "1  [{'attribute': 'BatteryLife', 'value': 5, 'att...  \n",
            "2  [{'attribute': 'BatteryLife', 'value': 3, 'att...  \n",
            "3  [{'attribute': 'BatteryLife', 'value': 5, 'att...  \n",
            "4  [{'attribute': 'BatteryLife', 'value': 5, 'att...  \n",
            "\n",
            "[5 rows x 22 columns]\n"
          ]
        }
      ]
    },
    {
      "cell_type": "code",
      "source": [
        "from google.colab import files\n",
        "files.download(\"reviews.json\")"
      ],
      "metadata": {
        "colab": {
          "base_uri": "https://localhost:8080/",
          "height": 17
        },
        "id": "hbjZBwpXKG05",
        "outputId": "230448e0-b069-4cb8-ee99-cc6feb2a543d"
      },
      "execution_count": null,
      "outputs": [
        {
          "output_type": "display_data",
          "data": {
            "text/plain": [
              "<IPython.core.display.Javascript object>"
            ],
            "application/javascript": [
              "\n",
              "    async function download(id, filename, size) {\n",
              "      if (!google.colab.kernel.accessAllowed) {\n",
              "        return;\n",
              "      }\n",
              "      const div = document.createElement('div');\n",
              "      const label = document.createElement('label');\n",
              "      label.textContent = `Downloading \"${filename}\": `;\n",
              "      div.appendChild(label);\n",
              "      const progress = document.createElement('progress');\n",
              "      progress.max = size;\n",
              "      div.appendChild(progress);\n",
              "      document.body.appendChild(div);\n",
              "\n",
              "      const buffers = [];\n",
              "      let downloaded = 0;\n",
              "\n",
              "      const channel = await google.colab.kernel.comms.open(id);\n",
              "      // Send a message to notify the kernel that we're ready.\n",
              "      channel.send({})\n",
              "\n",
              "      for await (const message of channel.messages) {\n",
              "        // Send a message to notify the kernel that we're ready.\n",
              "        channel.send({})\n",
              "        if (message.buffers) {\n",
              "          for (const buffer of message.buffers) {\n",
              "            buffers.push(buffer);\n",
              "            downloaded += buffer.byteLength;\n",
              "            progress.value = downloaded;\n",
              "          }\n",
              "        }\n",
              "      }\n",
              "      const blob = new Blob(buffers, {type: 'application/binary'});\n",
              "      const a = document.createElement('a');\n",
              "      a.href = window.URL.createObjectURL(blob);\n",
              "      a.download = filename;\n",
              "      div.appendChild(a);\n",
              "      a.click();\n",
              "      div.remove();\n",
              "    }\n",
              "  "
            ]
          },
          "metadata": {}
        },
        {
          "output_type": "display_data",
          "data": {
            "text/plain": [
              "<IPython.core.display.Javascript object>"
            ],
            "application/javascript": [
              "download(\"download_f43a8f9a-4601-46f7-93a0-50a1882190d9\", \"reviews.json\", 4356826)"
            ]
          },
          "metadata": {}
        }
      ]
    },
    {
      "cell_type": "code",
      "source": [
        "!pip install pyspark\n"
      ],
      "metadata": {
        "colab": {
          "base_uri": "https://localhost:8080/"
        },
        "id": "AXVlhSyVIQFa",
        "outputId": "ff803310-3ca6-41c4-e31d-4146add7ea21"
      },
      "execution_count": 8,
      "outputs": [
        {
          "output_type": "stream",
          "name": "stdout",
          "text": [
            "Collecting pyspark\n",
            "  Downloading pyspark-3.5.2.tar.gz (317.3 MB)\n",
            "\u001b[2K     \u001b[90m━━━━━━━━━━━━━━━━━━━━━━━━━━━━━━━━━━━━━━━━\u001b[0m \u001b[32m317.3/317.3 MB\u001b[0m \u001b[31m1.5 MB/s\u001b[0m eta \u001b[36m0:00:00\u001b[0m\n",
            "\u001b[?25h  Preparing metadata (setup.py) ... \u001b[?25l\u001b[?25hdone\n",
            "Requirement already satisfied: py4j==0.10.9.7 in /usr/local/lib/python3.10/dist-packages (from pyspark) (0.10.9.7)\n",
            "Building wheels for collected packages: pyspark\n",
            "  Building wheel for pyspark (setup.py) ... \u001b[?25l\u001b[?25hdone\n",
            "  Created wheel for pyspark: filename=pyspark-3.5.2-py2.py3-none-any.whl size=317812365 sha256=b10877d6493a071ea8b28b8b54a809f6adf0796a4501c170e0f537358c75dc0a\n",
            "  Stored in directory: /root/.cache/pip/wheels/34/34/bd/03944534c44b677cd5859f248090daa9fb27b3c8f8e5f49574\n",
            "Successfully built pyspark\n",
            "Installing collected packages: pyspark\n",
            "Successfully installed pyspark-3.5.2\n"
          ]
        }
      ]
    },
    {
      "cell_type": "code",
      "source": [
        "from pyspark.sql import SparkSession\n",
        "from pyspark.sql.functions import col\n",
        "\n",
        "# Crear una sesión de Spark\n",
        "spark = SparkSession.builder \\\n",
        "    .appName(\"Reviews Transformation\") \\\n",
        "    .getOrCreate()\n",
        "\n",
        "# Leer el archivo JSON\n",
        "df = spark.read.json(\"reviews.json\")\n",
        "\n",
        "# Seleccionar y renombrar las columnas necesarias\n",
        "transformed_df = df.select(\n",
        "    col(\"id\").alias(\"id\"),\n",
        "    col(\"text\").alias(\"text\"),\n",
        "    col(\"rating\").alias(\"rating\")\n",
        ")\n",
        "\n",
        "# Mostrar el DataFrame transformado\n",
        "transformed_df.show()\n",
        "\n",
        "# Guardar el DataFrame en un archivo CSV\n",
        "transformed_df.write.csv(\"reviews_transform.csv\", header=True)\n",
        "\n",
        "# Parar la sesión de Spark\n",
        "spark.stop()\n"
      ],
      "metadata": {
        "colab": {
          "base_uri": "https://localhost:8080/"
        },
        "id": "vHJPQkFIIS70",
        "outputId": "46624847-c6fd-4740-f464-93a20f64ccef"
      },
      "execution_count": 9,
      "outputs": [
        {
          "output_type": "stream",
          "name": "stdout",
          "text": [
            "+--------------------+--------------------+------+\n",
            "|                  id|                text|rating|\n",
            "+--------------------+--------------------+------+\n",
            "|766e8ed0-a4a3-35e...|Does what it’s su...|     5|\n",
            "|21982890-7761-3ee...|I use to browse i...|     5|\n",
            "|428df55d-d6f9-399...|Love it! Best Buy...|     5|\n",
            "|20d8d8ed-6126-38a...|So happy I was ab...|     5|\n",
            "|7fbf75fb-8110-36f...|Works great!  It ...|     5|\n",
            "|cb93d5a0-c2ce-303...|It has been a ver...|     5|\n",
            "|7bda1e1f-76fb-369...|Pretty good for t...|     2|\n",
            "|8cbdd489-64fe-3e2...|The computer does...|     5|\n",
            "|2d1b08a7-39bc-318...|I am quite please...|     4|\n",
            "|9e8858ba-a538-3ef...|Bought this to re...|     5|\n",
            "|28451835-08af-35e...|My kid loves it ,...|     5|\n",
            "|4f053de3-5898-366...|Just what I wante...|     5|\n",
            "|e6d543a5-e643-3c0...|very good custome...|     5|\n",
            "|def65021-83f3-341...|I Love this Lapto...|     5|\n",
            "|770510af-bb38-305...|I LOVE this lapto...|     5|\n",
            "|ec892293-6be9-326...|This laptop is pe...|     5|\n",
            "|5f3a8a11-3d3a-3e9...|Great laptop for ...|     4|\n",
            "|8267d522-9133-3c5...|Love this laptop....|     5|\n",
            "|49e87e9e-d1b0-39a...|Works very well, ...|     5|\n",
            "|ccebc316-9e51-3b7...|Purchased this la...|     2|\n",
            "+--------------------+--------------------+------+\n",
            "only showing top 20 rows\n",
            "\n"
          ]
        }
      ]
    },
    {
      "cell_type": "code",
      "source": [
        "import os\n",
        "\n",
        "# Verificar que el archivo CSV se haya creado\n",
        "csv_files = [f for f in os.listdir() if f.startswith(\"reviews_transform\")]\n",
        "print(csv_files)\n"
      ],
      "metadata": {
        "colab": {
          "base_uri": "https://localhost:8080/"
        },
        "id": "BWwDCGJsLVmo",
        "outputId": "435906f7-dd38-4705-a1d7-22d8cfb3667e"
      },
      "execution_count": 10,
      "outputs": [
        {
          "output_type": "stream",
          "name": "stdout",
          "text": [
            "['reviews_transform.csv']\n"
          ]
        }
      ]
    },
    {
      "cell_type": "code",
      "source": [
        "import shutil\n",
        "\n",
        "# Empaquetar los archivos CSV en un solo archivo ZIP para facilitar la descarga\n",
        "shutil.make_archive(\"reviews_transform\", 'zip', '.', 'reviews_transform.csv')\n",
        "\n",
        "# Descargar el archivo ZIP\n",
        "from google.colab import files\n",
        "files.download(\"reviews_transform.zip\")\n"
      ],
      "metadata": {
        "colab": {
          "base_uri": "https://localhost:8080/",
          "height": 17
        },
        "id": "j4m4S5GDLZeJ",
        "outputId": "913f8151-afe9-4b0e-8a3f-b82f5a31f60c"
      },
      "execution_count": 11,
      "outputs": [
        {
          "output_type": "display_data",
          "data": {
            "text/plain": [
              "<IPython.core.display.Javascript object>"
            ],
            "application/javascript": [
              "\n",
              "    async function download(id, filename, size) {\n",
              "      if (!google.colab.kernel.accessAllowed) {\n",
              "        return;\n",
              "      }\n",
              "      const div = document.createElement('div');\n",
              "      const label = document.createElement('label');\n",
              "      label.textContent = `Downloading \"${filename}\": `;\n",
              "      div.appendChild(label);\n",
              "      const progress = document.createElement('progress');\n",
              "      progress.max = size;\n",
              "      div.appendChild(progress);\n",
              "      document.body.appendChild(div);\n",
              "\n",
              "      const buffers = [];\n",
              "      let downloaded = 0;\n",
              "\n",
              "      const channel = await google.colab.kernel.comms.open(id);\n",
              "      // Send a message to notify the kernel that we're ready.\n",
              "      channel.send({})\n",
              "\n",
              "      for await (const message of channel.messages) {\n",
              "        // Send a message to notify the kernel that we're ready.\n",
              "        channel.send({})\n",
              "        if (message.buffers) {\n",
              "          for (const buffer of message.buffers) {\n",
              "            buffers.push(buffer);\n",
              "            downloaded += buffer.byteLength;\n",
              "            progress.value = downloaded;\n",
              "          }\n",
              "        }\n",
              "      }\n",
              "      const blob = new Blob(buffers, {type: 'application/binary'});\n",
              "      const a = document.createElement('a');\n",
              "      a.href = window.URL.createObjectURL(blob);\n",
              "      a.download = filename;\n",
              "      div.appendChild(a);\n",
              "      a.click();\n",
              "      div.remove();\n",
              "    }\n",
              "  "
            ]
          },
          "metadata": {}
        },
        {
          "output_type": "display_data",
          "data": {
            "text/plain": [
              "<IPython.core.display.Javascript object>"
            ],
            "application/javascript": [
              "download(\"download_35f95c50-2f9d-45ae-adec-3c78c6e6100f\", \"reviews_transform.zip\", 18047)"
            ]
          },
          "metadata": {}
        }
      ]
    }
  ]
}